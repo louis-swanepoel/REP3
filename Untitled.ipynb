{
 "cells": [
  {
   "cell_type": "code",
   "execution_count": null,
   "id": "6c113995",
   "metadata": {},
   "outputs": [],
   "source": [
    "import numpy as np\n",
    "import math \n",
    "import matplotlib.pyplot as plt\n",
    "import matplotlib \n",
    "from scipy import integrate\n",
    "from matplotlib.figure import Figure "
   ]
  },
  {
   "cell_type": "code",
   "execution_count": null,
   "id": "d0d9aa62",
   "metadata": {},
   "outputs": [],
   "source": [
    "# Initiation of constants\n",
    "G = 6.674*10-11\n",
    "m1 = 1.989*10**30\n",
    "m2 = 5.972*10**24\n",
    "mass_of_jwt = 6000\n",
    "time_start_orbit = 0\n",
    "time_end_orbit = 21\n",
    "delta_vee = 150"
   ]
  },
  {
   "cell_type": "code",
   "execution_count": null,
   "id": "9cf32bfa",
   "metadata": {},
   "outputs": [],
   "source": [
    "# Function to define the initial conditions for certain orbits outlined by NASA\n",
    "def orbit1():\n",
    "    \n",
    "    # Initial conditions for orbit 1\n",
    "    r1i = -4173087+151*10**9\n",
    "    r2i = 5523\n",
    "    p1i = math.tan(-6944925/r1i) \n",
    "    p2i = math.tan(-8120/r1i)\n",
    "    q1i = math.tan(-538178/r1i) \n",
    "    q2i = math.tan(-972/r1i)\n",
    "    return r1i, r2i, p1i, p2i, q1i, q2i"
   ]
  },
  {
   "cell_type": "code",
   "execution_count": null,
   "id": "57bbd4b3",
   "metadata": {},
   "outputs": [],
   "source": [
    "# Function using solve`_ivp in scipy to solve the set of differential equations found \n",
    "## using the Lagrange equations and returning the solutions as an array called variable sol\n",
    "def integration(time_end_orbit, r1i, r2i, p1i, p2i, q1i, q2i):\n",
    "    \n",
    "    time_end_orbit = time_end_orbit\n",
    "    \n",
    "    def ode(t, r):\n",
    "        \n",
    "        r1, r2, p1, p2, q1, q2 = r\n",
    "        \n",
    "        r1_dot = r2\n",
    "        r2_dot = r1 * ((p2**2) + ((math.sin(p1))**2 * (q2**2))) + ( G * (m1 - m2)/(r1**2) )  \n",
    "        p1_dot = p2\n",
    "        p2_dot = ( (math.sin(p1)) * (math.cos(p1)) * (q2**2) ) - ( (2 * r2 * p2)/r1 )\n",
    "        q1_dot = q2\n",
    "        q2_dot = - ( (( 2 * r2 * q2 )/r1) + ( 2 * ( (math.cos(p1))/(math.sin(p1)) ) * p2 * q2 ) )\n",
    "        \n",
    "        return r1_dot, r2_dot, p1_dot, p2_dot, q1_dot, q2_dot\n",
    "    \n",
    "    number_of_integrations = 400\n",
    "    \n",
    "    sol = integrate.solve_ivp(ode,[0, time_end_orbit], [r1i,r2i,p1i,p2i,q1i,q2i], t_eval = np.linspace(0, time_end_orbit, number_of_integrations))    \n",
    "\n",
    "    return sol "
   ]
  },
  {
   "cell_type": "code",
   "execution_count": null,
   "id": "d427f9e5",
   "metadata": {},
   "outputs": [],
   "source": [
    "# Funcnction which changes the spherical coordinates of the solution into cartesian form\n",
    "def change_to_cartesian(sol):\n",
    "    \n",
    "    x_values_list = []\n",
    "    y_values_list = []\n",
    "    z_values_list = []\n",
    "    \n",
    "    for i in range(0, len(sol.y[0])):\n",
    "        x_value = sol.y[0, i] * math.cos(sol.y[2, i]) * math.cos(sol.y[4, i])\n",
    "        x_values_list.append(x_value)\n",
    "        \n",
    "        y_value = sol.y[0, i] * math.cos(sol.y[2, i]) * math.sin(sol.y[4, i])\n",
    "        y_values_list.append(y_value)\n",
    "        \n",
    "        z_value = sol.y[0, i] * math.sin(sol.y[2, i])\n",
    "        z_values_list.append(z_value)\n",
    "    return  x_values_list , y_values_list , z_values_list"
   ]
  },
  {
   "cell_type": "code",
   "execution_count": null,
   "id": "f11aee46",
   "metadata": {},
   "outputs": [],
   "source": [
    "def graph(orbit):\n",
    "    \n",
    "    r1i, r2i, p1i, p2i, q1i, q2i = orbit\n",
    "        \n",
    "    sol = (integration(time_end_orbit, r1i, r2i, p1i, p2i, q1i, q2i) ) \n",
    "    \n",
    "    x_values_list , y_values_list , z_values_list = change_to_cartesian(sol)  \n",
    "    \n",
    "    # Graphing\n",
    "    plt.figure(figsize=(6, 6), dpi=100)\n",
    "    \n",
    "    ax1 = plt.axes(projection = '3d')\n",
    "    ax1.plot( y_values_list, x_values_list,z_values_list)\n",
    "           \n",
    "    figure2 = plt.figure(2,figsize=(6, 6), dpi=100)\n",
    "    ax2 = plt.axes(projection = '3d')\n",
    "    ax2.set_title('21 days in orbit 3')\n",
    "    ax2.set_xlabel(\"Theta (Rad)\")\n",
    "    ax2.set_ylabel(\"r (metres)\")\n",
    "    ax2.set_zlabel(\"Phi (Rad)\")\n",
    "    ax2.set_ylim(3*10**11,6*10**11)\n",
    "    ax2.set_xlim(-4.64*10**-5,-4.61*10**-5)\n",
    "    # ax2.set_zlim(-3.59*10**-6,-3.605*10**-6)\n",
    "    ax2.plot(sol.y[2],\n",
    "            sol.y[0],\n",
    "            sol.y[4])\n",
    "    \n",
    "    plt.show()"
   ]
  },
  {
   "cell_type": "code",
   "execution_count": null,
   "id": "99a67ea5",
   "metadata": {},
   "outputs": [],
   "source": [
    "# Calculates delta vee for each manouvre that the James webb does assuming that we are returning it to its initial position\n",
    "def deltaV(orbit):\n",
    "        \n",
    "    r1i, r2i, p1i, p2i, q1i, q2i = orbit\n",
    "    sol = (integration(time_end_orbit, r1i, r2i, p1i, p2i, q1i, q2i) )\n",
    "    x_values_list , y_values_list , z_values_list = change_to_cartesian(sol)\n",
    "    \n",
    "    # Calculate the potential energy\n",
    "    distance_from_origin = math.sqrt(((x_values_list[-1] - x_values_list[0]) ** 2) + ((y_values_list[-1] - y_values_list[0]) ** 2) + ((z_values_list[-1] - z_values_list[0]) ** 2))\n",
    "    U = -G*((m1*mass_of_jwt/distance_from_origin)+(m2*mass_of_jwt/(15*10**5)))\n",
    "    # Calculate the kinetic energy\n",
    "    current_velocity= math.sqrt(sol.y[1, -1] ** 2) + (sol.y[3, -1] ** 2) + (sol.y[5, -1] ** 2)\n",
    "    initial_velocity = math.sqrt(r2i**2 +p2i**2 + q2i**2)\n",
    "    delta_vi = initial_velocity - current_velocity\n",
    "    \n",
    "    return delta_vi,U"
   ]
  },
  {
   "cell_type": "code",
   "execution_count": null,
   "id": "bd72f36a",
   "metadata": {},
   "outputs": [],
   "source": [
    "delta_vi,U = deltaV(orbit1())\n",
    "\n",
    "# Graph orbit 1\n",
    "graph(orbit1())\n",
    "\n",
    "# Calculate how delta vee relates to the James webbs\n",
    "T = 21*delta_vee/(delta_vi)\n",
    "\n",
    "print(\"delta v for single manouvre:\" , delta_vi)\n",
    "print('U:', U)\n",
    "print('Total time in orbit:',T)"
   ]
  }
 ],
 "metadata": {
  "kernelspec": {
   "display_name": "Python 3 (ipykernel)",
   "language": "python",
   "name": "python3"
  },
  "language_info": {
   "codemirror_mode": {
    "name": "ipython",
    "version": 3
   },
   "file_extension": ".py",
   "mimetype": "text/x-python",
   "name": "python",
   "nbconvert_exporter": "python",
   "pygments_lexer": "ipython3",
   "version": "3.9.7"
  }
 },
 "nbformat": 4,
 "nbformat_minor": 5
}
